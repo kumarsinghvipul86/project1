{
 "cells": [
  {
   "cell_type": "code",
   "execution_count": 1,
   "metadata": {},
   "outputs": [],
   "source": [
    "import pandas as pd\n",
    "import numpy as np\n"
   ]
  },
  {
   "cell_type": "code",
   "execution_count": 2,
   "metadata": {},
   "outputs": [
    {
     "data": {
      "text/html": [
       "<div>\n",
       "<style scoped>\n",
       "    .dataframe tbody tr th:only-of-type {\n",
       "        vertical-align: middle;\n",
       "    }\n",
       "\n",
       "    .dataframe tbody tr th {\n",
       "        vertical-align: top;\n",
       "    }\n",
       "\n",
       "    .dataframe thead th {\n",
       "        text-align: right;\n",
       "    }\n",
       "</style>\n",
       "<table border=\"1\" class=\"dataframe\">\n",
       "  <thead>\n",
       "    <tr style=\"text-align: right;\">\n",
       "      <th></th>\n",
       "      <th>RM</th>\n",
       "      <th>LSTAT</th>\n",
       "      <th>PTRATIO</th>\n",
       "      <th>MEDV</th>\n",
       "    </tr>\n",
       "  </thead>\n",
       "  <tbody>\n",
       "    <tr>\n",
       "      <th>0</th>\n",
       "      <td>6.575</td>\n",
       "      <td>4.98</td>\n",
       "      <td>15.3</td>\n",
       "      <td>504000.0</td>\n",
       "    </tr>\n",
       "    <tr>\n",
       "      <th>1</th>\n",
       "      <td>6.421</td>\n",
       "      <td>9.14</td>\n",
       "      <td>17.8</td>\n",
       "      <td>453600.0</td>\n",
       "    </tr>\n",
       "    <tr>\n",
       "      <th>2</th>\n",
       "      <td>7.185</td>\n",
       "      <td>4.03</td>\n",
       "      <td>17.8</td>\n",
       "      <td>728700.0</td>\n",
       "    </tr>\n",
       "    <tr>\n",
       "      <th>3</th>\n",
       "      <td>6.998</td>\n",
       "      <td>2.94</td>\n",
       "      <td>18.7</td>\n",
       "      <td>701400.0</td>\n",
       "    </tr>\n",
       "    <tr>\n",
       "      <th>4</th>\n",
       "      <td>7.147</td>\n",
       "      <td>5.33</td>\n",
       "      <td>18.7</td>\n",
       "      <td>760200.0</td>\n",
       "    </tr>\n",
       "  </tbody>\n",
       "</table>\n",
       "</div>"
      ],
      "text/plain": [
       "      RM  LSTAT  PTRATIO      MEDV\n",
       "0  6.575   4.98     15.3  504000.0\n",
       "1  6.421   9.14     17.8  453600.0\n",
       "2  7.185   4.03     17.8  728700.0\n",
       "3  6.998   2.94     18.7  701400.0\n",
       "4  7.147   5.33     18.7  760200.0"
      ]
     },
     "execution_count": 2,
     "metadata": {},
     "output_type": "execute_result"
    }
   ],
   "source": [
    "data=pd.read_csv(r\"C:\\Users\\HP\\Desktop\\MSIT_ML_CLASS-master-1\\MSIT_ML_CLASS-master\\datasets\\boston_housing.csv\")\n",
    "data.head()"
   ]
  },
  {
   "cell_type": "code",
   "execution_count": 3,
   "metadata": {},
   "outputs": [
    {
     "data": {
      "text/plain": [
       "array([[6.5750e+00, 5.0400e+05],\n",
       "       [6.4210e+00, 4.5360e+05],\n",
       "       [7.1850e+00, 7.2870e+05],\n",
       "       [6.9980e+00, 7.0140e+05],\n",
       "       [7.1470e+00, 7.6020e+05],\n",
       "       [6.4300e+00, 6.0270e+05],\n",
       "       [6.0120e+00, 4.8090e+05],\n",
       "       [6.1720e+00, 5.6910e+05],\n",
       "       [5.6310e+00, 3.4650e+05],\n",
       "       [6.0040e+00, 3.9690e+05],\n",
       "       [6.3770e+00, 3.1500e+05],\n",
       "       [6.0090e+00, 3.9690e+05],\n",
       "       [5.8890e+00, 4.5570e+05],\n",
       "       [5.9490e+00, 4.2840e+05],\n",
       "       [6.0960e+00, 3.8220e+05],\n",
       "       [5.8340e+00, 4.1790e+05],\n",
       "       [5.9350e+00, 4.8510e+05],\n",
       "       [5.9900e+00, 3.6750e+05],\n",
       "       [5.4560e+00, 4.2420e+05],\n",
       "       [5.7270e+00, 3.8220e+05],\n",
       "       [5.5700e+00, 2.8560e+05],\n",
       "       [5.9650e+00, 4.1160e+05],\n",
       "       [6.1420e+00, 3.1920e+05],\n",
       "       [5.8130e+00, 3.0450e+05],\n",
       "       [5.9240e+00, 3.2760e+05],\n",
       "       [5.5990e+00, 2.9190e+05],\n",
       "       [5.8130e+00, 3.4860e+05],\n",
       "       [6.0470e+00, 3.1080e+05],\n",
       "       [6.4950e+00, 3.8640e+05],\n",
       "       [6.6740e+00, 4.4100e+05],\n",
       "       [5.7130e+00, 2.6670e+05],\n",
       "       [6.0720e+00, 3.0450e+05],\n",
       "       [5.9500e+00, 2.7720e+05],\n",
       "       [5.7010e+00, 2.7510e+05],\n",
       "       [6.0960e+00, 2.8350e+05],\n",
       "       [5.9330e+00, 3.9690e+05],\n",
       "       [5.8410e+00, 4.2000e+05],\n",
       "       [5.8500e+00, 4.4100e+05],\n",
       "       [5.9660e+00, 5.1870e+05],\n",
       "       [6.5950e+00, 6.4680e+05],\n",
       "       [7.0240e+00, 7.3290e+05],\n",
       "       [6.7700e+00, 5.5860e+05],\n",
       "       [6.1690e+00, 5.3130e+05],\n",
       "       [6.2110e+00, 5.1870e+05],\n",
       "       [6.0690e+00, 4.4520e+05],\n",
       "       [5.6820e+00, 4.0530e+05],\n",
       "       [5.7860e+00, 4.2000e+05],\n",
       "       [6.0300e+00, 3.4860e+05],\n",
       "       [5.3990e+00, 3.0240e+05],\n",
       "       [5.6020e+00, 4.0740e+05],\n",
       "       [5.9630e+00, 4.1370e+05],\n",
       "       [6.1150e+00, 4.3050e+05],\n",
       "       [6.5110e+00, 5.2500e+05],\n",
       "       [5.9980e+00, 4.9140e+05],\n",
       "       [5.8880e+00, 3.9690e+05],\n",
       "       [7.2490e+00, 7.4340e+05],\n",
       "       [6.3830e+00, 5.1870e+05],\n",
       "       [6.8160e+00, 6.6360e+05],\n",
       "       [6.1450e+00, 4.8930e+05],\n",
       "       [5.9270e+00, 4.1160e+05],\n",
       "       [5.7410e+00, 3.9270e+05],\n",
       "       [5.9660e+00, 3.3600e+05],\n",
       "       [6.4560e+00, 4.6620e+05],\n",
       "       [6.7620e+00, 5.2500e+05],\n",
       "       [7.1040e+00, 6.9300e+05],\n",
       "       [6.2900e+00, 4.9350e+05],\n",
       "       [5.7870e+00, 4.0740e+05],\n",
       "       [5.8780e+00, 4.6200e+05],\n",
       "       [5.5940e+00, 3.6540e+05],\n",
       "       [5.8850e+00, 4.3890e+05],\n",
       "       [6.4170e+00, 5.0820e+05],\n",
       "       [5.9610e+00, 4.5570e+05],\n",
       "       [6.0650e+00, 4.7880e+05],\n",
       "       [6.2450e+00, 4.9140e+05],\n",
       "       [6.2730e+00, 5.0610e+05],\n",
       "       [6.2860e+00, 4.4940e+05],\n",
       "       [6.2790e+00, 4.2000e+05],\n",
       "       [6.1400e+00, 4.3680e+05],\n",
       "       [6.2320e+00, 4.4520e+05],\n",
       "       [5.8740e+00, 4.2630e+05],\n",
       "       [6.7270e+00, 5.8800e+05],\n",
       "       [6.6190e+00, 5.0190e+05],\n",
       "       [6.3020e+00, 5.2080e+05],\n",
       "       [6.1670e+00, 4.8090e+05],\n",
       "       [6.3890e+00, 5.0190e+05],\n",
       "       [6.6300e+00, 5.5860e+05],\n",
       "       [6.0150e+00, 4.7250e+05],\n",
       "       [6.1210e+00, 4.6620e+05],\n",
       "       [7.0070e+00, 4.9560e+05],\n",
       "       [7.0790e+00, 6.0270e+05],\n",
       "       [6.4170e+00, 4.7460e+05],\n",
       "       [6.4050e+00, 4.6200e+05],\n",
       "       [6.4420e+00, 4.8090e+05],\n",
       "       [6.2110e+00, 5.2500e+05],\n",
       "       [6.2490e+00, 4.3260e+05],\n",
       "       [6.6250e+00, 5.9640e+05],\n",
       "       [6.1630e+00, 4.4940e+05],\n",
       "       [8.0690e+00, 8.1270e+05],\n",
       "       [7.8200e+00, 9.1980e+05],\n",
       "       [7.4160e+00, 6.9720e+05],\n",
       "       [6.7270e+00, 5.7750e+05],\n",
       "       [6.7810e+00, 5.5650e+05],\n",
       "       [6.4050e+00, 3.9060e+05],\n",
       "       [6.1370e+00, 4.0530e+05],\n",
       "       [6.1670e+00, 4.2210e+05],\n",
       "       [5.8510e+00, 4.0950e+05],\n",
       "       [5.8360e+00, 4.0950e+05],\n",
       "       [6.1270e+00, 4.2840e+05],\n",
       "       [6.4740e+00, 4.1580e+05],\n",
       "       [6.2290e+00, 4.0740e+05],\n",
       "       [6.1950e+00, 4.5570e+05],\n",
       "       [6.7150e+00, 4.7880e+05],\n",
       "       [5.9130e+00, 3.9480e+05],\n",
       "       [6.0920e+00, 3.9270e+05],\n",
       "       [6.2540e+00, 3.8850e+05],\n",
       "       [5.9280e+00, 3.8430e+05],\n",
       "       [6.1760e+00, 4.4520e+05],\n",
       "       [6.0210e+00, 4.0320e+05],\n",
       "       [5.8720e+00, 4.2840e+05],\n",
       "       [5.7310e+00, 4.0530e+05],\n",
       "       [5.8700e+00, 4.6200e+05],\n",
       "       [6.0040e+00, 4.2630e+05],\n",
       "       [5.9610e+00, 4.3050e+05],\n",
       "       [5.8560e+00, 3.6330e+05],\n",
       "       [5.8790e+00, 3.9480e+05],\n",
       "       [5.9860e+00, 4.4940e+05],\n",
       "       [5.6130e+00, 3.2970e+05],\n",
       "       [5.6930e+00, 3.4020e+05],\n",
       "       [6.4310e+00, 3.7800e+05],\n",
       "       [5.6370e+00, 3.0030e+05],\n",
       "       [6.4580e+00, 4.0320e+05],\n",
       "       [6.3260e+00, 4.1160e+05],\n",
       "       [6.3720e+00, 4.8300e+05],\n",
       "       [5.8220e+00, 3.8640e+05],\n",
       "       [5.7570e+00, 3.2760e+05],\n",
       "       [6.3350e+00, 3.8010e+05],\n",
       "       [5.9420e+00, 3.6540e+05],\n",
       "       [6.4540e+00, 3.5910e+05],\n",
       "       [5.8570e+00, 2.7930e+05],\n",
       "       [6.1510e+00, 3.7380e+05],\n",
       "       [6.1740e+00, 2.9400e+05],\n",
       "       [5.0190e+00, 3.0240e+05],\n",
       "       [5.4030e+00, 2.8140e+05],\n",
       "       [5.4680e+00, 3.2760e+05],\n",
       "       [4.9030e+00, 2.4780e+05],\n",
       "       [6.1300e+00, 2.8980e+05],\n",
       "       [5.6280e+00, 3.2760e+05],\n",
       "       [4.9260e+00, 3.0660e+05],\n",
       "       [5.1860e+00, 3.7380e+05],\n",
       "       [5.5970e+00, 3.2340e+05],\n",
       "       [6.1220e+00, 4.5150e+05],\n",
       "       [5.4040e+00, 4.1160e+05],\n",
       "       [5.0120e+00, 3.2130e+05],\n",
       "       [5.7090e+00, 4.0740e+05],\n",
       "       [6.1290e+00, 3.5700e+05],\n",
       "       [6.1520e+00, 3.2760e+05],\n",
       "       [5.2720e+00, 2.7510e+05],\n",
       "       [6.9430e+00, 8.6730e+05],\n",
       "       [6.0660e+00, 5.1030e+05],\n",
       "       [6.5100e+00, 4.8930e+05],\n",
       "       [6.2500e+00, 5.6700e+05],\n",
       "       [5.8540e+00, 4.7670e+05],\n",
       "       [6.1010e+00, 5.2500e+05],\n",
       "       [5.8770e+00, 4.9980e+05],\n",
       "       [6.3190e+00, 4.9980e+05],\n",
       "       [6.4020e+00, 4.6830e+05],\n",
       "       [5.8750e+00, 3.6540e+05],\n",
       "       [5.8800e+00, 4.0110e+05],\n",
       "       [5.5720e+00, 4.8510e+05],\n",
       "       [6.4160e+00, 4.9560e+05],\n",
       "       [5.8590e+00, 4.7460e+05],\n",
       "       [6.5460e+00, 6.1740e+05],\n",
       "       [6.0200e+00, 4.8720e+05],\n",
       "       [6.3150e+00, 5.1660e+05],\n",
       "       [6.8600e+00, 6.2790e+05],\n",
       "       [6.9800e+00, 7.8120e+05],\n",
       "       [7.7650e+00, 8.3580e+05],\n",
       "       [6.1440e+00, 7.6020e+05],\n",
       "       [7.1550e+00, 7.9590e+05],\n",
       "       [6.5630e+00, 6.8250e+05],\n",
       "       [5.6040e+00, 5.5440e+05],\n",
       "       [6.1530e+00, 6.2160e+05],\n",
       "       [6.7820e+00, 6.7200e+05],\n",
       "       [6.5560e+00, 6.2580e+05],\n",
       "       [7.1850e+00, 7.3290e+05],\n",
       "       [6.9510e+00, 7.7700e+05],\n",
       "       [6.7390e+00, 6.4050e+05],\n",
       "       [7.1780e+00, 7.6440e+05],\n",
       "       [6.8000e+00, 6.5310e+05],\n",
       "       [6.6040e+00, 6.1110e+05],\n",
       "       [7.2870e+00, 6.9930e+05],\n",
       "       [7.1070e+00, 6.3630e+05],\n",
       "       [7.2740e+00, 7.2660e+05],\n",
       "       [6.9750e+00, 7.3290e+05],\n",
       "       [7.1350e+00, 6.9090e+05],\n",
       "       [6.1620e+00, 5.0610e+05],\n",
       "       [7.6100e+00, 8.8830e+05],\n",
       "       [7.8530e+00, 1.0185e+06],\n",
       "       [5.8910e+00, 4.7460e+05],\n",
       "       [6.3260e+00, 5.1240e+05],\n",
       "       [5.7830e+00, 4.7250e+05],\n",
       "       [6.0640e+00, 5.1240e+05],\n",
       "       [5.3440e+00, 4.2000e+05],\n",
       "       [5.9600e+00, 4.5570e+05],\n",
       "       [5.4040e+00, 4.0530e+05],\n",
       "       [5.8070e+00, 4.7040e+05],\n",
       "       [6.3750e+00, 5.9010e+05],\n",
       "       [5.4120e+00, 4.9770e+05],\n",
       "       [6.1820e+00, 5.2500e+05],\n",
       "       [5.8880e+00, 4.8930e+05],\n",
       "       [6.6420e+00, 6.0270e+05],\n",
       "       [5.9510e+00, 4.5150e+05],\n",
       "       [6.3730e+00, 4.8300e+05],\n",
       "       [6.9510e+00, 5.6070e+05],\n",
       "       [6.1640e+00, 4.5570e+05],\n",
       "       [6.8790e+00, 5.7750e+05],\n",
       "       [6.6180e+00, 6.3210e+05],\n",
       "       [8.2660e+00, 9.4080e+05],\n",
       "       [8.0400e+00, 7.8960e+05],\n",
       "       [7.1630e+00, 6.6360e+05],\n",
       "       [7.6860e+00, 9.8070e+05],\n",
       "       [6.5520e+00, 6.6150e+05],\n",
       "       [5.9810e+00, 5.1030e+05],\n",
       "       [7.4120e+00, 6.6570e+05],\n",
       "       [8.3370e+00, 8.7570e+05],\n",
       "       [8.2470e+00, 1.0143e+06],\n",
       "       [6.7260e+00, 6.0900e+05],\n",
       "       [6.0860e+00, 5.0400e+05],\n",
       "       [6.6310e+00, 5.2710e+05],\n",
       "       [7.3580e+00, 6.6150e+05],\n",
       "       [6.4810e+00, 4.9770e+05],\n",
       "       [6.6060e+00, 4.8930e+05],\n",
       "       [6.8970e+00, 4.6200e+05],\n",
       "       [6.0950e+00, 4.2210e+05],\n",
       "       [6.3580e+00, 4.6620e+05],\n",
       "       [6.3930e+00, 4.9770e+05],\n",
       "       [5.5930e+00, 3.6960e+05],\n",
       "       [5.6050e+00, 3.8850e+05],\n",
       "       [6.1080e+00, 5.1030e+05],\n",
       "       [6.2260e+00, 4.3050e+05],\n",
       "       [6.4330e+00, 5.1450e+05],\n",
       "       [6.7180e+00, 5.5020e+05],\n",
       "       [6.4870e+00, 5.1240e+05],\n",
       "       [6.4380e+00, 5.2080e+05],\n",
       "       [6.9570e+00, 6.2160e+05],\n",
       "       [8.2590e+00, 8.9880e+05],\n",
       "       [6.1080e+00, 4.5990e+05],\n",
       "       [5.8760e+00, 4.3890e+05],\n",
       "       [7.4540e+00, 9.2400e+05],\n",
       "       [7.3330e+00, 7.5600e+05],\n",
       "       [6.8420e+00, 6.3210e+05],\n",
       "       [7.2030e+00, 7.0980e+05],\n",
       "       [7.5200e+00, 9.0510e+05],\n",
       "       [8.3980e+00, 1.0248e+06],\n",
       "       [7.3270e+00, 6.5100e+05],\n",
       "       [7.2060e+00, 7.6650e+05],\n",
       "       [5.5600e+00, 4.7880e+05],\n",
       "       [7.0140e+00, 6.4470e+05],\n",
       "       [7.4700e+00, 9.1350e+05],\n",
       "       [5.9200e+00, 4.3470e+05],\n",
       "       [5.8560e+00, 4.4310e+05],\n",
       "       [6.2400e+00, 5.2920e+05],\n",
       "       [6.5380e+00, 5.1240e+05],\n",
       "       [7.6910e+00, 7.3920e+05],\n",
       "       [6.7580e+00, 6.8040e+05],\n",
       "       [6.8540e+00, 6.7200e+05],\n",
       "       [7.2670e+00, 6.9720e+05],\n",
       "       [6.8260e+00, 6.9510e+05],\n",
       "       [6.4820e+00, 6.1110e+05],\n",
       "       [6.8120e+00, 7.3710e+05],\n",
       "       [7.8200e+00, 9.5340e+05],\n",
       "       [6.9680e+00, 7.4340e+05],\n",
       "       [7.6450e+00, 9.6600e+05],\n",
       "       [7.0880e+00, 6.7620e+05],\n",
       "       [6.4530e+00, 4.6200e+05],\n",
       "       [6.2300e+00, 4.2210e+05],\n",
       "       [6.2090e+00, 4.8720e+05],\n",
       "       [6.3150e+00, 4.6830e+05],\n",
       "       [6.5650e+00, 5.2080e+05],\n",
       "       [6.8610e+00, 5.9850e+05],\n",
       "       [7.1480e+00, 7.8330e+05],\n",
       "       [6.6300e+00, 5.8590e+05],\n",
       "       [6.1270e+00, 5.0190e+05],\n",
       "       [6.0090e+00, 4.5570e+05],\n",
       "       [6.6780e+00, 6.0060e+05],\n",
       "       [6.5490e+00, 5.6910e+05],\n",
       "       [5.7900e+00, 4.2630e+05],\n",
       "       [6.3450e+00, 4.7250e+05],\n",
       "       [7.0410e+00, 6.0900e+05],\n",
       "       [6.8710e+00, 5.2080e+05],\n",
       "       [6.5900e+00, 4.6200e+05],\n",
       "       [6.4950e+00, 5.5440e+05],\n",
       "       [6.9820e+00, 6.9510e+05],\n",
       "       [7.2360e+00, 7.5810e+05],\n",
       "       [6.6160e+00, 5.9640e+05],\n",
       "       [7.4200e+00, 7.0140e+05],\n",
       "       [6.8490e+00, 5.9220e+05],\n",
       "       [6.6350e+00, 4.7880e+05],\n",
       "       [5.9720e+00, 4.2630e+05],\n",
       "       [4.9730e+00, 3.3810e+05],\n",
       "       [6.1220e+00, 4.6410e+05],\n",
       "       [6.0230e+00, 4.0740e+05],\n",
       "       [6.2660e+00, 4.5360e+05],\n",
       "       [6.5670e+00, 4.9980e+05],\n",
       "       [5.7050e+00, 3.4020e+05],\n",
       "       [5.9140e+00, 3.7380e+05],\n",
       "       [5.7820e+00, 4.1580e+05],\n",
       "       [6.3820e+00, 4.8510e+05],\n",
       "       [6.1130e+00, 4.4100e+05],\n",
       "       [6.4260e+00, 4.9980e+05],\n",
       "       [6.3760e+00, 4.8510e+05],\n",
       "       [6.0410e+00, 4.2840e+05],\n",
       "       [5.7080e+00, 3.8850e+05],\n",
       "       [6.4150e+00, 5.2500e+05],\n",
       "       [6.4310e+00, 5.1660e+05],\n",
       "       [6.3120e+00, 4.8300e+05],\n",
       "       [6.0830e+00, 4.6620e+05],\n",
       "       [5.8680e+00, 4.0530e+05],\n",
       "       [6.3330e+00, 4.7460e+05],\n",
       "       [6.1440e+00, 4.1580e+05],\n",
       "       [5.7060e+00, 3.5910e+05],\n",
       "       [6.0310e+00, 4.0740e+05],\n",
       "       [6.3160e+00, 4.6620e+05],\n",
       "       [6.3100e+00, 4.3470e+05],\n",
       "       [6.0370e+00, 4.4310e+05],\n",
       "       [5.8690e+00, 4.0950e+05],\n",
       "       [5.8950e+00, 3.8850e+05],\n",
       "       [6.0590e+00, 4.3260e+05],\n",
       "       [5.9850e+00, 3.9900e+05],\n",
       "       [5.9680e+00, 3.9270e+05],\n",
       "       [7.2410e+00, 6.8670e+05],\n",
       "       [6.5400e+00, 3.4650e+05],\n",
       "       [6.6960e+00, 5.0190e+05],\n",
       "       [6.8740e+00, 6.5520e+05],\n",
       "       [6.0140e+00, 3.6750e+05],\n",
       "       [5.8980e+00, 3.6120e+05],\n",
       "       [6.5160e+00, 4.8510e+05],\n",
       "       [6.6350e+00, 5.1450e+05],\n",
       "       [6.9390e+00, 5.5860e+05],\n",
       "       [6.4900e+00, 4.8090e+05],\n",
       "       [6.5790e+00, 5.0610e+05],\n",
       "       [5.8840e+00, 3.9060e+05],\n",
       "       [6.7280e+00, 6.3210e+05],\n",
       "       [5.6630e+00, 3.8220e+05],\n",
       "       [5.9360e+00, 4.3260e+05],\n",
       "       [6.2120e+00, 3.7380e+05],\n",
       "       [6.3950e+00, 4.5570e+05],\n",
       "       [6.1270e+00, 4.7670e+05],\n",
       "       [6.1120e+00, 4.7460e+05],\n",
       "       [6.3980e+00, 5.2500e+05],\n",
       "       [6.2510e+00, 4.1790e+05],\n",
       "       [5.3620e+00, 4.3680e+05],\n",
       "       [5.8030e+00, 3.5280e+05],\n",
       "       [3.5610e+00, 5.7750e+05],\n",
       "       [4.9630e+00, 4.5990e+05],\n",
       "       [3.8630e+00, 4.8510e+05],\n",
       "       [4.9060e+00, 2.8980e+05],\n",
       "       [4.1380e+00, 2.8980e+05],\n",
       "       [7.3130e+00, 3.1500e+05],\n",
       "       [6.6490e+00, 2.9190e+05],\n",
       "       [6.7940e+00, 2.7930e+05],\n",
       "       [6.3800e+00, 2.7510e+05],\n",
       "       [6.2230e+00, 2.1420e+05],\n",
       "       [6.9680e+00, 2.1840e+05],\n",
       "       [6.5450e+00, 2.2890e+05],\n",
       "       [5.5360e+00, 2.3730e+05],\n",
       "       [5.5200e+00, 2.5830e+05],\n",
       "       [4.3680e+00, 1.8480e+05],\n",
       "       [5.2770e+00, 1.5120e+05],\n",
       "       [4.6520e+00, 2.2050e+05],\n",
       "       [5.0000e+00, 1.5540e+05],\n",
       "       [4.8800e+00, 2.1420e+05],\n",
       "       [5.3900e+00, 2.4150e+05],\n",
       "       [5.7130e+00, 3.1710e+05],\n",
       "       [6.0510e+00, 4.8720e+05],\n",
       "       [5.0360e+00, 2.0370e+05],\n",
       "       [6.1930e+00, 2.8980e+05],\n",
       "       [5.8870e+00, 2.6670e+05],\n",
       "       [6.4710e+00, 2.7510e+05],\n",
       "       [6.4050e+00, 2.6250e+05],\n",
       "       [5.7470e+00, 1.7850e+05],\n",
       "       [5.4530e+00, 1.0500e+05],\n",
       "       [5.8520e+00, 1.3230e+05],\n",
       "       [5.9870e+00, 1.1760e+05],\n",
       "       [6.3430e+00, 1.5120e+05],\n",
       "       [6.4040e+00, 2.5410e+05],\n",
       "       [5.3490e+00, 1.7430e+05],\n",
       "       [5.5310e+00, 1.7850e+05],\n",
       "       [5.6830e+00, 1.0500e+05],\n",
       "       [4.1380e+00, 2.4990e+05],\n",
       "       [5.6080e+00, 5.8590e+05],\n",
       "       [5.6170e+00, 3.6120e+05],\n",
       "       [6.8520e+00, 5.7750e+05],\n",
       "       [5.7570e+00, 3.1500e+05],\n",
       "       [6.6570e+00, 3.6120e+05],\n",
       "       [4.6280e+00, 3.7590e+05],\n",
       "       [5.1550e+00, 3.4230e+05],\n",
       "       [4.5190e+00, 1.4700e+05],\n",
       "       [6.4340e+00, 1.5120e+05],\n",
       "       [6.7820e+00, 1.5750e+05],\n",
       "       [5.3040e+00, 2.1840e+05],\n",
       "       [5.9570e+00, 1.8480e+05],\n",
       "       [6.8240e+00, 1.7640e+05],\n",
       "       [6.4110e+00, 3.5070e+05],\n",
       "       [6.0060e+00, 2.9820e+05],\n",
       "       [5.6480e+00, 4.3680e+05],\n",
       "       [6.1030e+00, 2.8140e+05],\n",
       "       [5.5650e+00, 2.4570e+05],\n",
       "       [5.8960e+00, 1.7430e+05],\n",
       "       [5.8370e+00, 2.1420e+05],\n",
       "       [6.2020e+00, 2.2890e+05],\n",
       "       [6.1930e+00, 2.3100e+05],\n",
       "       [6.3800e+00, 1.9950e+05],\n",
       "       [6.3480e+00, 3.0450e+05],\n",
       "       [6.8330e+00, 2.9610e+05],\n",
       "       [6.4250e+00, 3.3810e+05],\n",
       "       [6.4360e+00, 3.0030e+05],\n",
       "       [6.2080e+00, 2.4570e+05],\n",
       "       [6.6290e+00, 2.8140e+05],\n",
       "       [6.4610e+00, 2.0160e+05],\n",
       "       [6.1520e+00, 1.8270e+05],\n",
       "       [5.9350e+00, 1.7640e+05],\n",
       "       [5.6270e+00, 2.6880e+05],\n",
       "       [5.8180e+00, 2.2050e+05],\n",
       "       [6.4060e+00, 3.5910e+05],\n",
       "       [6.2190e+00, 3.8640e+05],\n",
       "       [6.4850e+00, 3.2340e+05],\n",
       "       [5.8540e+00, 2.2680e+05],\n",
       "       [6.4590e+00, 2.4780e+05],\n",
       "       [6.3410e+00, 3.1290e+05],\n",
       "       [6.2510e+00, 2.6460e+05],\n",
       "       [6.1850e+00, 2.9610e+05],\n",
       "       [6.4170e+00, 2.7300e+05],\n",
       "       [6.7490e+00, 2.8140e+05],\n",
       "       [6.6550e+00, 3.1920e+05],\n",
       "       [6.2970e+00, 3.3810e+05],\n",
       "       [7.3930e+00, 3.7380e+05],\n",
       "       [6.7280e+00, 3.1290e+05],\n",
       "       [6.5250e+00, 2.9610e+05],\n",
       "       [5.9760e+00, 2.6670e+05],\n",
       "       [5.9360e+00, 2.8350e+05],\n",
       "       [6.3010e+00, 3.1290e+05],\n",
       "       [6.0810e+00, 4.2000e+05],\n",
       "       [6.7010e+00, 3.4440e+05],\n",
       "       [6.3760e+00, 3.7170e+05],\n",
       "       [6.3170e+00, 4.0950e+05],\n",
       "       [6.5130e+00, 4.2420e+05],\n",
       "       [6.2090e+00, 4.4940e+05],\n",
       "       [5.7590e+00, 4.1790e+05],\n",
       "       [5.9520e+00, 3.9900e+05],\n",
       "       [6.0030e+00, 4.0110e+05],\n",
       "       [5.9260e+00, 4.0110e+05],\n",
       "       [5.7130e+00, 4.2210e+05],\n",
       "       [6.1670e+00, 4.1790e+05],\n",
       "       [6.2290e+00, 4.1160e+05],\n",
       "       [6.4370e+00, 4.8720e+05],\n",
       "       [6.9800e+00, 6.2580e+05],\n",
       "       [5.4270e+00, 2.8980e+05],\n",
       "       [6.1620e+00, 2.7930e+05],\n",
       "       [6.4840e+00, 3.5070e+05],\n",
       "       [5.3040e+00, 2.5200e+05],\n",
       "       [6.1850e+00, 3.0660e+05],\n",
       "       [6.2290e+00, 4.4940e+05],\n",
       "       [6.2420e+00, 4.8300e+05],\n",
       "       [6.7500e+00, 4.9770e+05],\n",
       "       [7.0610e+00, 5.2500e+05],\n",
       "       [5.7620e+00, 4.5780e+05],\n",
       "       [5.8710e+00, 4.3260e+05],\n",
       "       [6.3120e+00, 4.4520e+05],\n",
       "       [6.1140e+00, 4.0110e+05],\n",
       "       [5.9050e+00, 4.3260e+05],\n",
       "       [5.4540e+00, 3.1920e+05],\n",
       "       [5.4140e+00, 1.4700e+05],\n",
       "       [5.0930e+00, 1.7010e+05],\n",
       "       [5.9830e+00, 2.8560e+05],\n",
       "       [5.9830e+00, 4.2210e+05],\n",
       "       [5.7070e+00, 4.5780e+05],\n",
       "       [5.9260e+00, 5.1450e+05],\n",
       "       [5.6700e+00, 4.8510e+05],\n",
       "       [5.3900e+00, 4.1370e+05],\n",
       "       [5.7940e+00, 3.8430e+05],\n",
       "       [6.0190e+00, 4.4520e+05],\n",
       "       [5.5690e+00, 3.6750e+05],\n",
       "       [6.0270e+00, 3.5280e+05],\n",
       "       [6.5930e+00, 4.7040e+05],\n",
       "       [6.1200e+00, 4.3260e+05],\n",
       "       [6.9760e+00, 5.0190e+05],\n",
       "       [6.7940e+00, 4.6200e+05],\n",
       "       [6.0300e+00, 2.4990e+05]])"
      ]
     },
     "execution_count": 3,
     "metadata": {},
     "output_type": "execute_result"
    }
   ],
   "source": [
    "clean_data=data[[\"RM\",\"MEDV\"]].values\n",
    "clean_data\n"
   ]
  },
  {
   "cell_type": "code",
   "execution_count": 4,
   "metadata": {},
   "outputs": [
    {
     "data": {
      "text/plain": [
       "Index(['RM', 'LSTAT', 'PTRATIO', 'MEDV'], dtype='object')"
      ]
     },
     "execution_count": 4,
     "metadata": {},
     "output_type": "execute_result"
    }
   ],
   "source": [
    "data.keys()"
   ]
  },
  {
   "cell_type": "code",
   "execution_count": 5,
   "metadata": {},
   "outputs": [
    {
     "data": {
      "image/png": "[encoded data removed]",
      "text/plain": [
       "<Figure size 432x288 with 1 Axes>"
      ]
     },
     "metadata": {},
     "output_type": "display_data"
    }
   ],
   "source": [
    "import matplotlib.pyplot as plt\n",
    "%matplotlib inline\n",
    "plt.style.use('ggplot')\n",
    "\n",
    "plt.scatter(clean_data[:,0],clean_data[:,1])\n",
    "plt.show()"
   ]
  },
  {
   "cell_type": "code",
   "execution_count": 6,
   "metadata": {},
   "outputs": [
    {
     "data": {
      "text/plain": [
       "<matplotlib.axes._subplots.AxesSubplot at 0x1f70c41d080>"
      ]
     },
     "execution_count": 6,
     "metadata": {},
     "output_type": "execute_result"
    },
    {
     "data": {
      "image/png": "[encoded data removed]",
      "text/plain": [
       "<Figure size 432x288 with 1 Axes>"
      ]
     },
     "metadata": {},
     "output_type": "display_data"
    }
   ],
   "source": [
    "data.plot(kind=\"scatter\",x=\"RM\",y=\"MEDV\",c=\"r\")"
   ]
  },
  {
   "cell_type": "code",
   "execution_count": 7,
   "metadata": {},
   "outputs": [
    {
     "data": {
      "text/plain": [
       "<matplotlib.axes._subplots.AxesSubplot at 0x1f70c4cc668>"
      ]
     },
     "execution_count": 7,
     "metadata": {},
     "output_type": "execute_result"
    },
    {
     "data": {
      "image/png": "[encoded data removed]",
      "text/plain": [
       "<Figure size 432x288 with 1 Axes>"
      ]
     },
     "metadata": {},
     "output_type": "display_data"
    }
   ],
   "source": [
    "data.plot(kind=\"scatter\",x=\"RM\",y=\"LSTAT\",c=\"b\")"
   ]
  },
  {
   "cell_type": "markdown",
   "metadata": {},
   "source": [
    "# function to calculate error"
   ]
  },
  {
   "cell_type": "code",
   "execution_count": 8,
   "metadata": {},
   "outputs": [
    {
     "data": {
      "text/plain": [
       "233709014171.77914"
      ]
     },
     "execution_count": 8,
     "metadata": {},
     "output_type": "execute_result"
    }
   ],
   "source": [
    "def compute_errors(m,b,points):\n",
    "    total_error=0\n",
    "    for point in points:\n",
    "        x=point[0]\n",
    "        y=point[1]\n",
    "        \n",
    "        total_error+=(y-((m*x)+b))**2\n",
    "    return total_error/len(points)\n",
    "compute_errors(0,0,clean_data)\n"
   ]
  },
  {
   "cell_type": "markdown",
   "metadata": {},
   "source": [
    "# code to do the calculations"
   ]
  },
  {
   "cell_type": "code",
   "execution_count": 9,
   "metadata": {},
   "outputs": [],
   "source": [
    "def step_gradient(b_current,m_current,points,learningrate):\n",
    "    b_gradient=0\n",
    "    m_gradient=0\n",
    "    N=float(len(points))\n",
    "    for i in range(len(points)):\n",
    "        x=points[i,0]\n",
    "        y=points[i,1]\n",
    "        b_gradient+=-(2/N)*(1)*(y-((m_current*x)+b_current))\n",
    "        m_gradient+=-(2/N)*(x)*(y-((m_current*x)+b_current))\n",
    "    new_b=b_current-(b_gradient*learningrate)\n",
    "    new_m=m_current-(m_gradient*learningrate)\n",
    "    return[new_b,new_m]\n",
    "             "
   ]
  },
  {
   "cell_type": "code",
   "execution_count": 10,
   "metadata": {},
   "outputs": [
    {
     "name": "stdout",
     "output_type": "stream",
     "text": [
      "We are starting at b= 0 m= 0 start error 233709014171.77914\n",
      "Ending at b= -576402.8476699291 m= 165318.6628652915 error = 14099244123.349504\n"
     ]
    }
   ],
   "source": [
    "points=clean_data\n",
    "b_initial=0\n",
    "m_initial=0\n",
    "# hyper parameters\n",
    "learning_rate=.01\n",
    "num_iterations=10000\n",
    "\n",
    "b=b_initial\n",
    "m=m_initial\n",
    "first_error=compute_errors(m,b,points)\n",
    "\n",
    "print(\"We are starting at b=\",b_initial,\"m=\",m_initial,\"start error\",first_error)\n",
    "\n",
    "error_list=[]\n",
    "for i in range(num_iterations):\n",
    "    b,m=step_gradient(b,m,points,learning_rate,)\n",
    "    error_list.append(compute_errors(m,b,points))\n",
    "\n",
    "print(\"Ending at b=\",b,\"m=\",m,\"error =\",error_list[-1])\n",
    "\n"
   ]
  },
  {
   "cell_type": "code",
   "execution_count": 11,
   "metadata": {},
   "outputs": [
    {
     "data": {
      "text/plain": [
       "[<matplotlib.lines.Line2D at 0x1f70c5a3390>]"
      ]
     },
     "execution_count": 11,
     "metadata": {},
     "output_type": "execute_result"
    },
    {
     "data": {
      "image/png": "[encoded data removed]",
      "text/plain": [
       "<Figure size 432x288 with 1 Axes>"
      ]
     },
     "metadata": {},
     "output_type": "display_data"
    }
   ],
   "source": [
    "plt.plot(error_list)"
   ]
  },
  {
   "cell_type": "code",
   "execution_count": 12,
   "metadata": {},
   "outputs": [
    {
     "name": "stdout",
     "output_type": "stream",
     "text": [
      "[1 2 3 4 5 6 7 8 9]\n",
      "[-411084.18480464 -245765.52193935  -80446.85907405   84871.80379124\n",
      "  250190.46665653  415509.12952182  580827.79238711  746146.4552524\n",
      "  911465.11811769]\n"
     ]
    },
    {
     "data": {
      "text/plain": [
       "[<matplotlib.lines.Line2D at 0x1f70c5da898>]"
      ]
     },
     "execution_count": 12,
     "metadata": {},
     "output_type": "execute_result"
    },
    {
     "data": {
      "image/png": "[encoded data removed]",
      "text/plain": [
       "<Figure size 432x288 with 1 Axes>"
      ]
     },
     "metadata": {},
     "output_type": "display_data"
    }
   ],
   "source": [
    "x=np.arange(1,10)\n",
    "y=m*x+b\n",
    "print(x)\n",
    "print(y)\n",
    "plt.scatter(clean_data[:,0],clean_data[:,1])\n",
    "plt.plot(x,y,c='g')"
   ]
  },
  {
   "cell_type": "markdown",
   "metadata": {},
   "source": [
    "# how good is our model"
   ]
  },
  {
   "cell_type": "markdown",
   "metadata": {},
   "source": [
    "### since we dont test the model on new data or test data ,therefore we cant predict the accuracy of model.\n",
    "### By knowing the accuracy we can judge about the goodness of our model"
   ]
  },
  {
   "cell_type": "code",
   "execution_count": 14,
   "metadata": {},
   "outputs": [
    {
     "name": "stdout",
     "output_type": "stream",
     "text": [
      "(342,)\n",
      "(147,)\n",
      "(342,)\n",
      "(147,)\n"
     ]
    }
   ],
   "source": [
    "from sklearn.model_selection import train_test_split\n",
    "X_train, X_test, y_train, y_test = train_test_split(clean_data[:,0],clean_data[:,1],test_size=0.3,random_state= 24)\n",
    "print(X_train.shape)\n",
    "print(X_test.shape)\n",
    "print(y_train.shape)\n",
    "print(y_test.shape)\n"
   ]
  },
  {
   "cell_type": "markdown",
   "metadata": {},
   "source": [
    "# train"
   ]
  },
  {
   "cell_type": "code",
   "execution_count": 17,
   "metadata": {},
   "outputs": [
    {
     "name": "stdout",
     "output_type": "stream",
     "text": [
      "We are starting at b = 0 m= 0 start error = 235702417631.57895\n",
      "Ending at b =  -107912.06990691515 m = 91318.39964826993 error = 17168520262.263208\n"
     ]
    }
   ],
   "source": [
    "\n",
    "points=np.zeros((X_train.shape[0],2))\n",
    "points[:,0]=X_train\n",
    "points[:,1]=y_train\n",
    "\n",
    "learning_rate = 0.001\n",
    "initial_b = 0\n",
    "initial_m = 0\n",
    "num_iterations=10000\n",
    "\n",
    "b=b_initial\n",
    "m=m_initial\n",
    "first_error=compute_errors(m,b,points)\n",
    "print(\"We are starting at b =\",initial_b,\"m=\",initial_m,\"start error =\",first_error)\n",
    "\n",
    "error_list=[]\n",
    "for i in range(num_iterations):\n",
    "    b,m = step_gradient(b,m,points,learning_rate)\n",
    "    error_list.append(compute_errors(m,b,points))\n",
    "print(\"Ending at b = \",b,\"m =\",m,\"error =\",error_list[-1])    \n",
    "    \n"
   ]
  },
  {
   "cell_type": "markdown",
   "metadata": {},
   "source": [
    "# test"
   ]
  },
  {
   "cell_type": "code",
   "execution_count": 18,
   "metadata": {},
   "outputs": [
    {
     "name": "stdout",
     "output_type": "stream",
     "text": [
      "[506386.80452699674, 470589.9918648749, 450956.5359404969, 456892.2319176343, 269963.4678376258, 420182.23525902984, 446573.25275737984, 474334.046250454, 461001.5599018066, 489766.85579101153, 496433.09896533523, 413424.67368505785, 531134.0908316777, 527390.0364460988, 478078.10063603305, 445386.1135619524, 479265.23983146047, 481822.155021612, 450408.6255426072, 513053.0477013203, 486844.6670022669, 492506.4077804597, 491410.58698468044, 435432.4080002909, 452508.9487345175, 508487.1277189069, 478899.9662328675, 484744.34381035675, 476890.9614406055, 479813.15022935014, 441094.1487784837, 569670.4554832476, 531955.9564285122, 445842.7055601937, 434153.9504052152, 437441.4127925529, 520267.2012735337, 496524.4173649835, 304755.77810361667, 439085.1439862218, 417990.5936674714, 397626.59054590727, 415068.4048787268, 426300.568035464, 501546.9293456383, 341922.3667604626, 452965.54073275876, 609211.3225309486, 426391.8864351123, 474334.046250454, 593961.1497896875, 474699.31984904705, 435615.0447995875, 459357.8287081377, 403379.6497237482, 506478.1229266449, 434701.86080310476, 476343.05104271584, 478078.10063603305, 385481.24339268723, 348679.9283344345, 516066.55488971324, 479904.46862899844, 478078.10063603305, 386485.7457888182, 441824.69597566983, 498624.7405568938, 452782.90393346216, 426665.84163405705, 526111.5788510229, 362834.28027991636, 415433.67847731983, 402923.0577255068, 606197.8153425556, 517984.2412823269, 521910.9324672026, 380550.04981168074, 455248.50072396564, 578802.2954480747, 413242.0368857614, 387672.8849842458, 549854.362759573, 269963.4678376258, 416894.77287169226, 529490.359638009, 505290.9837312174, 515427.3260921755, 456070.3663208, 446299.29755843506, 413789.9472836509, 479630.51343005366, 440546.2383805941, 437806.686391146, 467576.484676482, 459083.8735091928, 404658.1073188239, 475521.1854458814, 422008.6032519952, 426665.84163405705, 428309.57282772596, 465476.1614845717, 489310.26379277016, 433332.08480838075, 514514.14209569275, 512505.13730343076, 587020.951416419, 453148.17753205536, 346214.3315439312, 400274.82413570705, 519810.6092752923, 413059.4000864648, 459997.05750567553, 438445.91518868384, 443742.3823682835, 449860.71514471754, 434153.9504052152, 385115.9697940942, 474881.95664834365, 428492.20962702244, 548210.6315659042, 403927.5601216379, 428218.25442807766, 508395.8093192586, 499994.5165516178, 418264.54886641627, 529672.9964373055, 349775.7491302137, 436893.5023946632, 559899.3867208827, 445934.023959842, 471503.17586135754, 544831.8507789182, 533508.3692225328, 495154.6413702595, 420456.19045797474, 438445.91518868384, 380093.4578134393, 434062.6320055669, 424839.47364109155, 476708.3246413089, 442463.9247732077, 517801.60448303045, 450499.9439422555, 536887.1500095187, 479356.55823110876, 540813.8411943944, 478808.6478332192]\n"
     ]
    }
   ],
   "source": [
    "points_test=np.zeros((X_test.shape[0],2))\n",
    "points_test[:,0]=X_test\n",
    "points_test[:,1]=y_test\n",
    "\n",
    "predictions=[]\n",
    "\n",
    "for point in points_test:\n",
    "    y_predicted=m*point[0]+b\n",
    "    predictions.append(y_predicted)\n",
    "print(predictions)    \n",
    "    "
   ]
  },
  {
   "cell_type": "markdown",
   "metadata": {},
   "source": [
    "# score"
   ]
  },
  {
   "cell_type": "code",
   "execution_count": 19,
   "metadata": {},
   "outputs": [
    {
     "data": {
      "text/plain": [
       "array([-7.11131955e+04,  9.04899919e+04,  1.83565359e+04,  1.50292232e+05,\n",
       "       -1.98365322e+04, -5.23177647e+04,  1.42073253e+05,  1.02634046e+05,\n",
       "        3.89015599e+04,  2.60866856e+05, -1.35666901e+05,  6.02467369e+03,\n",
       "       -1.70265909e+05, -9.42099636e+04,  2.05078101e+05,  1.27861136e+04,\n",
       "       -1.23434760e+05,  7.86221550e+04,  4.93086255e+04, -1.40046952e+05,\n",
       "        6.26446670e+04, -1.14935922e+04, -1.91089413e+05,  1.58232408e+05,\n",
       "        4.72089487e+04,  1.07871277e+04, -2.09000338e+04,  3.84434381e+03,\n",
       "        2.22790961e+05,  1.79513150e+05, -3.98058512e+04, -1.31729545e+05,\n",
       "        3.63559564e+04, -6.65572944e+04,  1.50653950e+05,  1.11414128e+04,\n",
       "       -5.72327987e+04, -5.37558264e+03,  1.57755778e+05,  7.15851440e+04,\n",
       "        9.05936675e+01,  1.60326591e+05,  3.28684049e+04, -1.46994320e+04,\n",
       "        6.05469293e+04,  3.53223668e+04,  1.33765541e+05, -4.09288677e+05,\n",
       "        1.68918864e+04, -1.07659537e+04, -3.86738850e+05,  2.75199320e+05,\n",
       "        3.66150448e+04,  8.55578287e+04,  1.11479650e+05,  1.93578123e+05,\n",
       "        6.93018608e+04, -4.86569490e+04, -3.01218994e+04,  1.04081243e+05,\n",
       "        1.93279928e+05,  2.19966555e+05, -7.29553137e+03,  3.47810064e+03,\n",
       "        2.39485746e+05, -4.53753040e+04, -1.04075259e+05,  1.59829039e+04,\n",
       "       -5.00341584e+04, -3.41188421e+05,  2.05342803e+04,  1.01336785e+04,\n",
       "        3.75230577e+04, -3.47202185e+05, -1.54015759e+05,  5.99109325e+04,\n",
       "        2.06250050e+05,  3.31485007e+04, -3.26297705e+05, -4.45579631e+04,\n",
       "        9.78728850e+04, -1.59945637e+05,  2.00634678e+04,  2.38394773e+05,\n",
       "       -9.63096404e+04,  2.64909837e+04, -1.79672674e+05,  1.08703663e+04,\n",
       "        1.09929756e+03,  9.66899473e+04,  3.28430513e+05,  1.42346238e+05,\n",
       "        1.71106686e+05, -5.32235153e+04,  9.68387351e+03,  7.49581073e+04,\n",
       "       -2.63788146e+04,  6.92086033e+04,  1.99865842e+05, -9.04271723e+01,\n",
       "        4.54761615e+04,  1.42810264e+05,  2.17320848e+04, -1.49085858e+05,\n",
       "        5.05051373e+04, -3.01279049e+05,  3.73481775e+04,  8.11433154e+03,\n",
       "        1.54574824e+05, -1.35389391e+05,  7.28594001e+04,  7.35970575e+04,\n",
       "        1.63459152e+04,  1.53423824e+04, -6.04392849e+04,  1.55395041e+03,\n",
       "        8.27159698e+04, -1.02180434e+04,  2.19220963e+03, -1.84689368e+05,\n",
       "        1.54275601e+04, -4.38174557e+03,  2.26995809e+05,  1.38794517e+05,\n",
       "       -3.95354511e+04, -1.65427004e+05,  2.84757491e+04,  1.00893502e+05,\n",
       "        2.44899387e+05, -3.28659760e+04, -9.96824139e+02, -2.38468149e+05,\n",
       "       -1.99391631e+05, -1.15945359e+05,  4.56190458e+02,  1.52845915e+05,\n",
       "       -3.99065422e+04, -5.10373680e+04,  6.93947364e+03,  8.40832464e+03,\n",
       "        8.96639248e+04, -5.96983955e+04,  1.99999439e+04,  1.18871500e+04,\n",
       "       -3.72434418e+04, -1.52186159e+05,  1.40708648e+05])"
      ]
     },
     "execution_count": 19,
     "metadata": {},
     "output_type": "execute_result"
    }
   ],
   "source": [
    "predictions - y_test"
   ]
  },
  {
   "cell_type": "markdown",
   "metadata": {},
   "source": [
    "# Now use metod of r**2 for calculation of accuracy"
   ]
  },
  {
   "cell_type": "code",
   "execution_count": null,
   "metadata": {},
   "outputs": [],
   "source": []
  },
  {
   "cell_type": "markdown",
   "metadata": {},
   "source": [
    "# another method for all these things we have done yet"
   ]
  },
  {
   "cell_type": "code",
   "execution_count": 21,
   "metadata": {},
   "outputs": [
    {
     "name": "stdout",
     "output_type": "stream",
     "text": [
      "0.5221738820372132\n",
      "[[174195.44363561]]\n",
      "[-630823.01221526]\n",
      "['__abstractmethods__', '__class__', '__delattr__', '__dict__', '__dir__', '__doc__', '__eq__', '__format__', '__ge__', '__getattribute__', '__getstate__', '__gt__', '__hash__', '__init__', '__init_subclass__', '__le__', '__lt__', '__module__', '__ne__', '__new__', '__reduce__', '__reduce_ex__', '__repr__', '__setattr__', '__setstate__', '__sizeof__', '__str__', '__subclasshook__', '__weakref__', '_abc_cache', '_abc_negative_cache', '_abc_negative_cache_version', '_abc_registry', '_decision_function', '_estimator_type', '_get_param_names', '_preprocess_data', '_residues', '_set_intercept', 'coef_', 'copy_X', 'fit', 'fit_intercept', 'get_params', 'intercept_', 'n_jobs', 'normalize', 'predict', 'rank_', 'score', 'set_params', 'singular_']\n"
     ]
    }
   ],
   "source": [
    "from sklearn.linear_model import LinearRegression\n",
    "\n",
    "lr=LinearRegression()\n",
    "lr.fit(X_train.reshape(-1,1),y_train.reshape(-1,1))\n",
    "lr.predict(X_test.reshape(-1,1))\n",
    "r2=lr.score(X_test.reshape(-1,1),y_test.reshape(-1,1))\n",
    "print(r2)\n",
    "\n",
    "print(lr.coef_)\n",
    "print(lr.intercept_)\n",
    "print(dir(lr))\n"
   ]
  },
  {
   "cell_type": "code",
   "execution_count": 24,
   "metadata": {},
   "outputs": [
    {
     "name": "stdout",
     "output_type": "stream",
     "text": [
      "0.6315493425383234\n",
      "[ 80542.70502707 -12074.89153223 -19153.5225713 ]\n",
      "465488.93762001826\n"
     ]
    }
   ],
   "source": [
    "X=data[[\"RM\",\"LSTAT\",\"PTRATIO\"]].values\n",
    "y=data[\"MEDV\"].values\n",
    "\n",
    "X_train, X_test, y_train,y_test=train_test_split(X,y,test_size=0.3,random_state=12)\n",
    "\n",
    "lr=LinearRegression()\n",
    "lr.fit(X_train,y_train)\n",
    "lr.predict(X_test)\n",
    "print(lr.score(X_test,y_test))\n",
    "print(lr.coef_)\n",
    "print(lr.intercept_)"
   ]
  },
  {
   "cell_type": "code",
   "execution_count": null,
   "metadata": {},
   "outputs": [],
   "source": []
  }
 ],
 "metadata": {
  "kernelspec": {
   "display_name": "Python 3",
   "language": "python",
   "name": "python3"
  },
  "language_info": {
   "codemirror_mode": {
    "name": "ipython",
    "version": 3
   },
   "file_extension": ".py",
   "mimetype": "text/x-python",
   "name": "python",
   "nbconvert_exporter": "python",
   "pygments_lexer": "ipython3",
   "version": "3.6.5"
  }
 },
 "nbformat": 4,
 "nbformat_minor": 2
}
